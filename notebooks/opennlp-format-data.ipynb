{
 "cells": [
  {
   "cell_type": "code",
   "execution_count": 37,
   "outputs": [],
   "source": [
    "import java.io.*\n",
    "import java.nio.charset.Charset\n",
    "\n",
    "fun readAndMap(file: String): List<String> {\n",
    "    val lines = File(\"../data/in/$file\").readLines(Charsets.UTF_8)\n",
    "    val relevantLines = lines.filter { it.startsWith(\"# newdoc\") || it.startsWith(\"# text\") }\n",
    "    return relevantLines\n",
    "        .map {\n",
    "            if (it.startsWith(\"# newdoc\")) {\n",
    "                \"\"\n",
    "            } else if (it.startsWith(\"# text\")) {\n",
    "                it.replace(\"# text = \", \"\")\n",
    "            } else {\n",
    "                throw RuntimeException(\"this should not exist: $it\")\n",
    "            }\n",
    "        }\n",
    "        // Remove initial empty line\n",
    "        .drop(1)\n",
    "}\n"
   ],
   "metadata": {
    "collapsed": false,
    "ExecuteTime": {
     "start_time": "2023-06-08T10:30:19.006809Z",
     "end_time": "2023-06-08T10:30:19.070201Z"
    }
   }
  },
  {
   "cell_type": "code",
   "execution_count": 38,
   "outputs": [],
   "source": [
    "fun sentsToFile(sentences: List<String>, file: String): Unit {\n",
    "    val fileWriter = FileWriter(\"../data/out/$file\")\n",
    "    fileWriter.use {\n",
    "        sentences.forEach {\n",
    "            fileWriter.write(it + System.lineSeparator())\n",
    "        }\n",
    "    }\n",
    "}"
   ],
   "metadata": {
    "collapsed": false,
    "ExecuteTime": {
     "start_time": "2023-06-08T10:30:20.012194Z",
     "end_time": "2023-06-08T10:30:20.055645Z"
    }
   }
  },
  {
   "cell_type": "code",
   "execution_count": 39,
   "outputs": [],
   "source": [
    "val sentences = readAndMap(\"sv_talbanken-ud-train.conllu\")\n",
    "sentsToFile(sentences, \"sv_talbanken-se-sent.train\")"
   ],
   "metadata": {
    "collapsed": false,
    "ExecuteTime": {
     "start_time": "2023-06-08T10:30:41.153517Z",
     "end_time": "2023-06-08T10:30:41.210978Z"
    }
   }
  },
  {
   "cell_type": "code",
   "execution_count": 40,
   "outputs": [],
   "source": [
    "val sentences = readAndMap(\"sv_talbanken-ud-test.conllu\")\n",
    "sentsToFile(sentences, \"sv_talbanken-se-sent.eval\")\n"
   ],
   "metadata": {
    "collapsed": false,
    "ExecuteTime": {
     "start_time": "2023-06-08T10:30:42.870118Z",
     "end_time": "2023-06-08T10:30:42.911825Z"
    }
   }
  },
  {
   "cell_type": "code",
   "execution_count": null,
   "outputs": [],
   "source": [],
   "metadata": {
    "collapsed": false
   }
  }
 ],
 "metadata": {
  "kernelspec": {
   "display_name": "Kotlin",
   "language": "kotlin",
   "name": "kotlin"
  },
  "language_info": {
   "name": "kotlin",
   "version": "1.8.0",
   "mimetype": "text/x-kotlin",
   "file_extension": ".kt",
   "pygments_lexer": "kotlin",
   "codemirror_mode": "text/x-kotlin",
   "nbconvert_exporter": ""
  }
 },
 "nbformat": 4,
 "nbformat_minor": 0
}
