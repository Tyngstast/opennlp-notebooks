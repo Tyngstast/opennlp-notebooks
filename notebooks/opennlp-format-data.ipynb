{
 "cells": [
  {
   "cell_type": "code",
   "execution_count": 91,
   "outputs": [],
   "source": [
    "@file:DependsOn(\"com.fasterxml.jackson.core:jackson-databind:2.15.2\")\n",
    "import java.io.*\n",
    "import com.fasterxml.jackson.databind.*\n"
   ],
   "metadata": {
    "collapsed": false,
    "ExecuteTime": {
     "start_time": "2023-06-09T15:47:09.796613Z",
     "end_time": "2023-06-09T15:47:09.851483Z"
    }
   }
  },
  {
   "cell_type": "code",
   "execution_count": 92,
   "outputs": [],
   "source": [
    "fun readLines(fileName: String): List<String> {\n",
    "    return File(\"../data/raw/$fileName\").readLines(Charsets.UTF_8)\n",
    "}"
   ],
   "metadata": {
    "collapsed": false,
    "ExecuteTime": {
     "start_time": "2023-06-09T15:47:10.294492Z",
     "end_time": "2023-06-09T15:47:10.322601Z"
    }
   }
  },
  {
   "cell_type": "code",
   "execution_count": 93,
   "outputs": [],
   "source": [
    "fun sentsToFile(sentences: List<String>, file: String): Unit {\n",
    "    val fileWriter = FileWriter(\"../data/formatted/$file\")\n",
    "    fileWriter.use {\n",
    "        sentences.forEach {\n",
    "            fileWriter.write(it + System.lineSeparator())\n",
    "        }\n",
    "    }\n",
    "}"
   ],
   "metadata": {
    "collapsed": false,
    "ExecuteTime": {
     "start_time": "2023-06-09T15:47:11.163545Z",
     "end_time": "2023-06-09T15:47:11.198234Z"
    }
   }
  },
  {
   "cell_type": "code",
   "execution_count": 94,
   "outputs": [],
   "source": [
    "fun readAndMapConllu(fileName: String): List<String> {\n",
    "    val lines = readLines(fileName)\n",
    "    val relevantLines = lines.filter { it.startsWith(\"# newdoc\") || it.startsWith(\"# text\") }\n",
    "    return relevantLines\n",
    "        .map {\n",
    "            if (it.startsWith(\"# newdoc\")) {\n",
    "                \"\"\n",
    "            } else if (it.startsWith(\"# text\")) {\n",
    "                it.replace(\"# text = \", \"\")\n",
    "            } else {\n",
    "                throw RuntimeException(\"this should not exist: $it\")\n",
    "            }\n",
    "        }\n",
    "        // Remove initial empty line\n",
    "        .drop(1)\n",
    "}\n"
   ],
   "metadata": {
    "collapsed": false,
    "ExecuteTime": {
     "start_time": "2023-06-09T15:47:11.340611Z",
     "end_time": "2023-06-09T15:47:11.386539Z"
    }
   }
  },
  {
   "cell_type": "code",
   "execution_count": 136,
   "outputs": [],
   "source": [
    "val mapper = ObjectMapper()\n",
    "fun readAndMapNer(fileName: String): List<String> {\n",
    "    val lines = readLines(fileName)\n",
    "    val sentences: MutableList<String> = lines.map {\n",
    "        val node = mapper.readTree(it)\n",
    "        val tokenList = node.path(\"tokens\")\n",
    "        val sent = tokenList.elements().asSequence()\n",
    "            .map { it.asText() }\n",
    "            .toList()\n",
    "            .joinToString(\" \")\n",
    "            .replace(\"\\\\s[,.?!:;]\".toRegex()) {\n",
    "                it.value.trimStart()\n",
    "            }\n",
    "            .replace(\"(\\\\()(\\\\s.*\\\\s)(\\\\))\".toRegex()) {\n",
    "                it.groupValues[1] + it.groupValues[2].trim() + it.groupValues[3]\n",
    "            }\n",
    "            .replace(\"(\\\")(\\\\s.*\\\\s)(\\\")\".toRegex()) {\n",
    "                it.groupValues[1] + it.groupValues[2].trim() + it.groupValues[3]\n",
    "            }\n",
    "\n",
    "            if (sent.startsWith(\"\\\" \")) {\n",
    "                sent.replaceFirst(\" \", \"\")\n",
    "            } else {\n",
    "                sent\n",
    "            }\n",
    "\n",
    "    }.toMutableList()\n",
    "\n",
    "    for (i in sentences.size downTo 0 step 10) {\n",
    "        if (i > 9 && i < sentences.size) {\n",
    "            sentences.add(i, \"\")\n",
    "        }\n",
    "    }\n",
    "\n",
    "    return sentences\n",
    "}\n"
   ],
   "metadata": {
    "collapsed": false,
    "ExecuteTime": {
     "start_time": "2023-06-09T16:27:01.247427Z",
     "end_time": "2023-06-09T16:27:01.356199Z"
    }
   }
  },
  {
   "cell_type": "code",
   "execution_count": 85,
   "outputs": [],
   "source": [
    "// val tbTrain = readAndMapConllu(\"sv_talbanken-ud-train.conllu\")\n",
    "//sentsToFile(tbTrain, \"sv_talbanken-se-sent.train.tmp\")\n",
    "// val tbTest = readAndMapConllu(\"sv_talbanken-ud-test.conllu\")\n",
    "//sentsToFile(tbTest, \"sv_talbanken-se-sent.eval\")\n"
   ],
   "metadata": {
    "collapsed": false,
    "ExecuteTime": {
     "start_time": "2023-06-09T15:37:34.707137Z",
     "end_time": "2023-06-09T15:37:34.762808Z"
    }
   }
  },
  {
   "cell_type": "code",
   "execution_count": 138,
   "outputs": [],
   "source": [
    "val sucTrain = readAndMapNer(\"suc-sprakbanken-cased-train.jsonl\")\n",
    "sentsToFile(sucTrain, \"suc-sprakbanken-cased.train\")\n",
    "val sucTest = readAndMapNer(\"suc-sprakbanken-cased-test.jsonl\")\n",
    "sentsToFile(sucTest, \"suc-sprakbanken-cased.eval\")\n",
    "\n"
   ],
   "metadata": {
    "collapsed": false,
    "ExecuteTime": {
     "start_time": "2023-06-09T16:27:12.371619Z",
     "end_time": "2023-06-09T16:27:12.924595Z"
    }
   }
  },
  {
   "cell_type": "code",
   "execution_count": null,
   "outputs": [],
   "source": [],
   "metadata": {
    "collapsed": false
   }
  }
 ],
 "metadata": {
  "kernelspec": {
   "display_name": "Kotlin",
   "language": "kotlin",
   "name": "kotlin"
  },
  "language_info": {
   "name": "kotlin",
   "version": "1.8.0",
   "mimetype": "text/x-kotlin",
   "file_extension": ".kt",
   "pygments_lexer": "kotlin",
   "codemirror_mode": "text/x-kotlin",
   "nbconvert_exporter": ""
  }
 },
 "nbformat": 4,
 "nbformat_minor": 0
}
