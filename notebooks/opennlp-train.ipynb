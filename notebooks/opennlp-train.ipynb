{
 "cells": [
  {
   "cell_type": "code",
   "execution_count": 3,
   "metadata": {
    "collapsed": true,
    "ExecuteTime": {
     "start_time": "2023-06-09T17:05:12.869897Z",
     "end_time": "2023-06-09T17:05:12.950065Z"
    }
   },
   "outputs": [],
   "source": [
    "@file:DependsOn(\"org.apache.opennlp:opennlp-tools:2.2.0\")\n"
   ]
  },
  {
   "cell_type": "code",
   "execution_count": 4,
   "outputs": [],
   "source": [
    "import java.time.*\n",
    "import java.io.*\n",
    "import opennlp.tools.sentdetect.*\n",
    "import opennlp.tools.util.*\n",
    "import opennlp.tools.dictionary.*"
   ],
   "metadata": {
    "collapsed": false,
    "ExecuteTime": {
     "start_time": "2023-06-09T17:05:13.608642Z",
     "end_time": "2023-06-09T17:05:13.639491Z"
    }
   }
  },
  {
   "cell_type": "code",
   "execution_count": 12,
   "outputs": [],
   "source": [
    "fun train(trainFile: String, modelOut: String, abbrevDict: Dictionary? = null, eosChars: CharArray? = null) {\n",
    "    val lineStream = PlainTextByLineStream(\n",
    "        MarkableFileInputStreamFactory(File(\"../data/formatted/$trainFile\")),\n",
    "        Charsets.UTF_8\n",
    "    )\n",
    "    SentenceSampleStream(lineStream)\n",
    "        .use { sampleStream ->\n",
    "            val model: SentenceModel = SentenceDetectorME.train(\n",
    "                \"se\",\n",
    "                sampleStream,\n",
    "                SentenceDetectorFactory(\"se\", true, abbrevDict, eosChars),\n",
    "                TrainingParameters.defaultParams()\n",
    "            )\n",
    "            BufferedOutputStream(FileOutputStream(\"../data/models/$modelOut\"))\n",
    "                .use { model.serialize(it) }\n",
    "        }\n",
    "}\n"
   ],
   "metadata": {
    "collapsed": false,
    "ExecuteTime": {
     "start_time": "2023-06-09T17:12:52.439493Z",
     "end_time": "2023-06-09T17:12:52.511818Z"
    }
   }
  },
  {
   "cell_type": "code",
   "execution_count": 11,
   "outputs": [],
   "source": [
    "// Dictionary is constructed to be case-insesitive by default\n",
    "val abbrevDict = Dictionary().apply {\n",
    "    val abbrvs = listOf(\n",
    "        \"ang\",\n",
    "        \"anm\",\n",
    "        \"bl.a\",\n",
    "        \"d.v.s\",\n",
    "        \"doc\",\n",
    "        \"dvs\",\n",
    "        \"e.d\",\n",
    "        \"e.kr\",\n",
    "        \"el.\",\n",
    "        \"eng\",\n",
    "        \"etc\",\n",
    "        \"exkl\",\n",
    "        \"ev\",\n",
    "        \"f.\",\n",
    "        \"f.d\",\n",
    "        \"f.kr\",\n",
    "        \"f.n\",\n",
    "        \"f.ö\",\n",
    "        \"fid\",\n",
    "        \"fig\",\n",
    "        \"forts\",\n",
    "        \"fr.o.m\",\n",
    "        \"förf\",\n",
    "        \"inkl\",\n",
    "        \"iofs\",\n",
    "        \"jur.\",\n",
    "        \"kap\",\n",
    "        \"kl\",\n",
    "        \"kor.\",\n",
    "        \"kr\",\n",
    "        \"kungl\",\n",
    "        \"lat\",\n",
    "        \"m.a.o\",\n",
    "        \"m.fl\",\n",
    "        \"m.m\",\n",
    "        \"max\",\n",
    "        \"milj\",\n",
    "        \"min.\",\n",
    "        \"mos\",\n",
    "        \"mt\",\n",
    "        \"mvh\",\n",
    "        \"o.d\",\n",
    "        \"o.s.v\",\n",
    "        \"obs\",\n",
    "        \"osv\",\n",
    "        \"p.g.a\",\n",
    "        \"proc\",\n",
    "        \"prof\",\n",
    "        \"ref\",\n",
    "        \"resp\",\n",
    "        \"s.a.s\",\n",
    "        \"s.k\",\n",
    "        \"s.t\",\n",
    "        \"sid\",\n",
    "        \"t.ex\",\n",
    "        \"t.h\",\n",
    "        \"t.o.m\",\n",
    "        \"t.v\",\n",
    "        \"tel\",\n",
    "        \"ung.\",\n",
    "        \"vol\",\n",
    "        \"v.\",\n",
    "        \"äv\",\n",
    "        \"övers\",\n",
    "    )\n",
    "    put(StringList(*abbrvs.toTypedArray()))\n",
    "}\n",
    "\n",
    "val eosChars = charArrayOf('.', '?', '!')\n",
    "\n",
    "train(\"tb-plus-suc-se-sent.train\", \"se-sent-22_tb-suc.bin\")\n",
    "//train(\"tb-plus-suc-se-sent.train\", \"se-sent-22_tb-suc-w-hints.bin\", abbrevDict, eosChars)\n",
    "//train(\"se-sent-2-2-with-hints.bin\", abbrevDict)\n"
   ],
   "metadata": {
    "collapsed": false,
    "ExecuteTime": {
     "start_time": "2023-06-09T17:12:10.041460Z",
     "end_time": "2023-06-09T17:12:11.077638Z"
    }
   }
  },
  {
   "cell_type": "code",
   "execution_count": null,
   "outputs": [],
   "source": [],
   "metadata": {
    "collapsed": false
   }
  }
 ],
 "metadata": {
  "kernelspec": {
   "display_name": "Kotlin",
   "language": "kotlin",
   "name": "kotlin"
  },
  "language_info": {
   "name": "kotlin",
   "version": "1.8.0",
   "mimetype": "text/x-kotlin",
   "file_extension": ".kt",
   "pygments_lexer": "kotlin",
   "codemirror_mode": "text/x-kotlin",
   "nbconvert_exporter": ""
  }
 },
 "nbformat": 4,
 "nbformat_minor": 0
}
