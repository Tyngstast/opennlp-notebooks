{
 "cells": [
  {
   "cell_type": "code",
   "execution_count": 2,
   "metadata": {
    "collapsed": true,
    "ExecuteTime": {
     "start_time": "2023-06-07T16:19:26.313877Z",
     "end_time": "2023-06-07T16:19:26.391464Z"
    }
   },
   "outputs": [],
   "source": [
    "@file:DependsOn(\"org.apache.opennlp:opennlp-tools:2.2.0\")\n"
   ]
  },
  {
   "cell_type": "code",
   "execution_count": 5,
   "outputs": [],
   "source": [
    "import java.io.*\n",
    "import opennlp.tools.sentdetect.*\n",
    "import opennlp.tools.util.*\n",
    "\n",
    "val lineStream = PlainTextByLineStream(MarkableFileInputStreamFactory(File(\"../data/out/sv_talbanken-se-sent.train\")), Charsets.UTF_8)\n",
    "SentenceSampleStream(lineStream)\n",
    "    .use { sampleStream ->\n",
    "        val model: SentenceModel = SentenceDetectorME.train(\n",
    "            \"se\",\n",
    "            sampleStream,\n",
    "            SentenceDetectorFactory(\"se\", true, null, null),\n",
    "            TrainingParameters.defaultParams()\n",
    "        )\n",
    "        BufferedOutputStream(FileOutputStream(\"../data/models/se-sent-2-2.bin\"))\n",
    "            .use { model.serialize(it) }\n",
    "    }\n"
   ],
   "metadata": {
    "collapsed": false,
    "ExecuteTime": {
     "start_time": "2023-06-08T10:31:22.954154Z",
     "end_time": "2023-06-08T10:31:23.143710Z"
    }
   }
  },
  {
   "cell_type": "code",
   "execution_count": null,
   "outputs": [],
   "source": [],
   "metadata": {
    "collapsed": false
   }
  }
 ],
 "metadata": {
  "kernelspec": {
   "display_name": "Kotlin",
   "language": "kotlin",
   "name": "kotlin"
  },
  "language_info": {
   "name": "kotlin",
   "version": "1.8.0",
   "mimetype": "text/x-kotlin",
   "file_extension": ".kt",
   "pygments_lexer": "kotlin",
   "codemirror_mode": "text/x-kotlin",
   "nbconvert_exporter": ""
  }
 },
 "nbformat": 4,
 "nbformat_minor": 0
}
