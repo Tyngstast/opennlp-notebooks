{
 "cells": [
  {
   "cell_type": "code",
   "execution_count": 8,
   "metadata": {
    "collapsed": true,
    "ExecuteTime": {
     "start_time": "2023-06-08T10:31:33.635474Z",
     "end_time": "2023-06-08T10:31:33.715271Z"
    }
   },
   "outputs": [],
   "source": [
    "@file:DependsOn(\"org.apache.opennlp:opennlp-tools:2.2.0\")\n"
   ]
  },
  {
   "cell_type": "code",
   "execution_count": 9,
   "outputs": [],
   "source": [
    "import java.io.*\n",
    "import opennlp.tools.sentdetect.*\n",
    "import opennlp.tools.cmdline.sentdetect.*\n",
    "import opennlp.tools.util.*\n",
    "import opennlp.tools.util.eval.*\n",
    "\n",
    "\n",
    "fun eval(model: String): FMeasure {\n",
    "    val lineStream = PlainTextByLineStream(\n",
    "        MarkableFileInputStreamFactory(File(\"../data/out/sv_talbanken-se-sent.eval\")),\n",
    "        Charsets.UTF_8\n",
    "    )\n",
    "\n",
    "    return SentenceSampleStream(lineStream).use {\n",
    "        val evaluator = SentenceDetectorEvaluator(SentenceDetectorME(SentenceModel(File(\"../data/models/$model\"))), SentenceEvaluationErrorListener())\n",
    "        evaluator.evaluate(it)\n",
    "        evaluator.fMeasure\n",
    "    }\n",
    "}\n"
   ],
   "metadata": {
    "collapsed": false,
    "ExecuteTime": {
     "start_time": "2023-06-08T10:31:39.755219Z",
     "end_time": "2023-06-08T10:31:39.832158Z"
    }
   }
  },
  {
   "cell_type": "code",
   "execution_count": 10,
   "outputs": [
    {
     "data": {
      "text/plain": "Precision: 0.9293286219081273\nRecall: 0.8630024610336341\nF-Measure: 0.8949383241173968"
     },
     "execution_count": 10,
     "metadata": {},
     "output_type": "execute_result"
    }
   ],
   "source": [
    "val sent15 = eval(\"se-sent-1-5.bin\")\n",
    "sent15\n"
   ],
   "metadata": {
    "collapsed": false,
    "ExecuteTime": {
     "start_time": "2023-06-08T10:31:41.405555Z",
     "end_time": "2023-06-08T10:31:41.455752Z"
    }
   }
  },
  {
   "cell_type": "code",
   "execution_count": 11,
   "outputs": [
    {
     "data": {
      "text/plain": "Precision: 0.9312169312169312\nRecall: 0.8662838392124692\nF-Measure: 0.8975775605609859"
     },
     "execution_count": 11,
     "metadata": {},
     "output_type": "execute_result"
    }
   ],
   "source": [
    "val sent22 = eval(\"se-sent-2-2.bin\")\n",
    "sent22\n"
   ],
   "metadata": {
    "collapsed": false,
    "ExecuteTime": {
     "start_time": "2023-06-08T10:31:43.788621Z",
     "end_time": "2023-06-08T10:31:43.825749Z"
    }
   }
  },
  {
   "cell_type": "code",
   "execution_count": null,
   "outputs": [],
   "source": [],
   "metadata": {
    "collapsed": false
   }
  }
 ],
 "metadata": {
  "kernelspec": {
   "display_name": "Kotlin",
   "language": "kotlin",
   "name": "kotlin"
  },
  "language_info": {
   "name": "kotlin",
   "version": "1.8.0",
   "mimetype": "text/x-kotlin",
   "file_extension": ".kt",
   "pygments_lexer": "kotlin",
   "codemirror_mode": "text/x-kotlin",
   "nbconvert_exporter": ""
  }
 },
 "nbformat": 4,
 "nbformat_minor": 0
}
