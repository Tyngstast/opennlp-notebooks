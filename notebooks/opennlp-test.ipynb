{
 "cells": [
  {
   "cell_type": "code",
   "execution_count": 1,
   "metadata": {
    "collapsed": true,
    "ExecuteTime": {
     "start_time": "2023-06-09T17:06:45.521360Z",
     "end_time": "2023-06-09T17:06:46.013765Z"
    }
   },
   "outputs": [],
   "source": [
    "@file:DependsOn(\"org.apache.opennlp:opennlp-tools:2.2.0\")\n"
   ]
  },
  {
   "cell_type": "code",
   "execution_count": 13,
   "outputs": [],
   "source": [
    "import java.io.*\n",
    "import opennlp.tools.sentdetect.*\n",
    "import opennlp.tools.cmdline.sentdetect.*\n",
    "import opennlp.tools.util.*\n",
    "import opennlp.tools.util.eval.*\n",
    "\n",
    "\n",
    "fun eval(evalFile: String, model: String): FMeasure {\n",
    "    val lineStream = PlainTextByLineStream(\n",
    "        MarkableFileInputStreamFactory(File(\"../data/formatted/$evalFile\")),\n",
    "        Charsets.UTF_8\n",
    "    )\n",
    "\n",
    "    return SentenceSampleStream(lineStream).use {\n",
    "        val evaluator = SentenceDetectorEvaluator(SentenceDetectorME(SentenceModel(File(\"../data/models/$model\"))), SentenceEvaluationErrorListener())\n",
    "        evaluator.evaluate(it)\n",
    "        evaluator.fMeasure\n",
    "    }\n",
    "}\n"
   ],
   "metadata": {
    "collapsed": false,
    "ExecuteTime": {
     "start_time": "2023-06-09T17:12:24.760644Z",
     "end_time": "2023-06-09T17:12:24.838330Z"
    }
   }
  },
  {
   "cell_type": "code",
   "execution_count": 4,
   "outputs": [
    {
     "data": {
      "text/plain": "Precision: 0.9293286219081273\nRecall: 0.8630024610336341\nF-Measure: 0.8949383241173968"
     },
     "execution_count": 4,
     "metadata": {},
     "output_type": "execute_result"
    }
   ],
   "source": [
    "val sent15 = eval(\"sv_talbanken-se-sent.eval\", \"se-sent-1-5.bin\")\n",
    "sent15\n"
   ],
   "metadata": {
    "collapsed": false,
    "ExecuteTime": {
     "start_time": "2023-06-09T17:07:45.572850Z",
     "end_time": "2023-06-09T17:07:45.680393Z"
    }
   }
  },
  {
   "cell_type": "code",
   "execution_count": 8,
   "outputs": [
    {
     "data": {
      "text/plain": "Precision: 0.9312169312169312\nRecall: 0.8662838392124692\nF-Measure: 0.8975775605609859"
     },
     "execution_count": 8,
     "metadata": {},
     "output_type": "execute_result"
    }
   ],
   "source": [
    "val sent22 = eval(\"sv_talbanken-se-sent.eval\", \"se-sent-2-2.bin\")\n",
    "sent22\n"
   ],
   "metadata": {
    "collapsed": false,
    "ExecuteTime": {
     "start_time": "2023-06-09T17:09:00.306117Z",
     "end_time": "2023-06-09T17:09:00.353674Z"
    }
   }
  },
  {
   "cell_type": "code",
   "execution_count": 9,
   "outputs": [
    {
     "data": {
      "text/plain": "Precision: 0.9079072937968643\nRecall: 0.853672606076144\nF-Measure: 0.8799550739957717"
     },
     "execution_count": 9,
     "metadata": {},
     "output_type": "execute_result"
    }
   ],
   "source": [
    "eval(\"tb-plus-suc-se-sent.eval\", \"se-sent-22_tb-suc.bin\")"
   ],
   "metadata": {
    "collapsed": false,
    "ExecuteTime": {
     "start_time": "2023-06-09T17:09:00.757037Z",
     "end_time": "2023-06-09T17:09:00.833702Z"
    }
   }
  },
  {
   "cell_type": "code",
   "execution_count": 14,
   "outputs": [
    {
     "data": {
      "text/plain": "Precision: 0.8973101804562479\nRecall: 0.8445712088193821\nF-Measure: 0.8701423052794929"
     },
     "execution_count": 14,
     "metadata": {},
     "output_type": "execute_result"
    }
   ],
   "source": [
    "eval(\"tb-plus-suc-se-sent.eval\", \"se-sent-22_tb-suc-w-hints.bin\")\n"
   ],
   "metadata": {
    "collapsed": false,
    "ExecuteTime": {
     "start_time": "2023-06-09T17:12:27.095572Z",
     "end_time": "2023-06-09T17:12:27.210115Z"
    }
   }
  },
  {
   "cell_type": "code",
   "execution_count": null,
   "outputs": [],
   "source": [],
   "metadata": {
    "collapsed": false
   }
  }
 ],
 "metadata": {
  "kernelspec": {
   "display_name": "Kotlin",
   "language": "kotlin",
   "name": "kotlin"
  },
  "language_info": {
   "name": "kotlin",
   "version": "1.8.0",
   "mimetype": "text/x-kotlin",
   "file_extension": ".kt",
   "pygments_lexer": "kotlin",
   "codemirror_mode": "text/x-kotlin",
   "nbconvert_exporter": ""
  }
 },
 "nbformat": 4,
 "nbformat_minor": 0
}
