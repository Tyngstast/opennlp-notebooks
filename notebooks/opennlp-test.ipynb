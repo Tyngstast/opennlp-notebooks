{
 "cells": [
  {
   "cell_type": "code",
   "execution_count": 1,
   "metadata": {
    "collapsed": true,
    "ExecuteTime": {
     "start_time": "2023-06-13T15:21:03.291784Z",
     "end_time": "2023-06-13T15:21:03.895238Z"
    }
   },
   "outputs": [],
   "source": [
    "@file:DependsOn(\"org.apache.opennlp:opennlp-tools:2.2.0\")\n"
   ]
  },
  {
   "cell_type": "code",
   "execution_count": 2,
   "outputs": [],
   "source": [
    "import java.io.*\n",
    "import opennlp.tools.sentdetect.*\n",
    "import opennlp.tools.cmdline.sentdetect.*\n",
    "import opennlp.tools.util.*\n",
    "import opennlp.tools.util.eval.*\n",
    "\n",
    "\n",
    "fun eval(evalFile: String, model: String): FMeasure {\n",
    "    val lineStream = PlainTextByLineStream(\n",
    "        MarkableFileInputStreamFactory(File(\"../data/formatted/$evalFile\")),\n",
    "        Charsets.UTF_8\n",
    "    )\n",
    "\n",
    "    return SentenceSampleStream(lineStream).use {\n",
    "        val evaluator = SentenceDetectorEvaluator(SentenceDetectorME(SentenceModel(File(\"../data/models/$model\"))), SentenceEvaluationErrorListener())\n",
    "        evaluator.evaluate(it)\n",
    "        evaluator.fMeasure\n",
    "    }\n",
    "}\n"
   ],
   "metadata": {
    "collapsed": false,
    "ExecuteTime": {
     "start_time": "2023-06-13T15:21:04.437678Z",
     "end_time": "2023-06-13T15:21:04.901067Z"
    }
   }
  },
  {
   "cell_type": "code",
   "execution_count": 18,
   "outputs": [
    {
     "data": {
      "text/plain": "Precision: 0.9293286219081273\nRecall: 0.8630024610336341\nF-Measure: 0.8949383241173968"
     },
     "execution_count": 18,
     "metadata": {},
     "output_type": "execute_result"
    }
   ],
   "source": [
    "eval(\"sv_talbanken-se-sent.eval\", \"se-sent-1-5.bin\")\n"
   ],
   "metadata": {
    "collapsed": false,
    "ExecuteTime": {
     "start_time": "2023-06-09T17:21:22.664545Z",
     "end_time": "2023-06-09T17:21:22.698386Z"
    }
   }
  },
  {
   "cell_type": "code",
   "execution_count": 19,
   "outputs": [
    {
     "data": {
      "text/plain": "Precision: 0.9312169312169312\nRecall: 0.8662838392124692\nF-Measure: 0.8975775605609859"
     },
     "execution_count": 19,
     "metadata": {},
     "output_type": "execute_result"
    }
   ],
   "source": [
    "eval(\"sv_talbanken-se-sent.eval\", \"se-sent-2-2.bin\")\n"
   ],
   "metadata": {
    "collapsed": false,
    "ExecuteTime": {
     "start_time": "2023-06-09T17:21:23.277354Z",
     "end_time": "2023-06-09T17:21:23.326523Z"
    }
   }
  },
  {
   "cell_type": "code",
   "execution_count": 20,
   "outputs": [
    {
     "data": {
      "text/plain": "Precision: 0.8998357963875205\nRecall: 0.842968850147417\nF-Measure: 0.8704745515917663"
     },
     "execution_count": 20,
     "metadata": {},
     "output_type": "execute_result"
    }
   ],
   "source": [
    "eval(\"tb-plus-suc-se-sent.eval\", \"se-sent-1-5.bin\")\n"
   ],
   "metadata": {
    "collapsed": false,
    "ExecuteTime": {
     "start_time": "2023-06-09T17:21:24.151845Z",
     "end_time": "2023-06-09T17:21:24.222169Z"
    }
   }
  },
  {
   "cell_type": "code",
   "execution_count": 21,
   "outputs": [
    {
     "data": {
      "text/plain": "Precision: 0.9079072937968643\nRecall: 0.853672606076144\nF-Measure: 0.8799550739957717"
     },
     "execution_count": 21,
     "metadata": {},
     "output_type": "execute_result"
    }
   ],
   "source": [
    "eval(\"tb-plus-suc-se-sent.eval\", \"se-sent-22_tb-suc.bin\")\n"
   ],
   "metadata": {
    "collapsed": false,
    "ExecuteTime": {
     "start_time": "2023-06-09T17:21:24.388712Z",
     "end_time": "2023-06-09T17:21:24.459368Z"
    }
   }
  },
  {
   "cell_type": "code",
   "execution_count": 3,
   "outputs": [
    {
     "data": {
      "text/plain": "Precision: 0.9322183098591549\nRecall: 0.8687448728465955\nF-Measure: 0.8993630573248407"
     },
     "execution_count": 3,
     "metadata": {},
     "output_type": "execute_result"
    }
   ],
   "source": [
    "eval(\"sv_talbanken-se-sent.eval\", \"se-sent-22_tb-suc.bin\")\n"
   ],
   "metadata": {
    "collapsed": false,
    "ExecuteTime": {
     "start_time": "2023-06-13T15:21:21.904039Z",
     "end_time": "2023-06-13T15:21:22.016640Z"
    }
   }
  }
 ],
 "metadata": {
  "kernelspec": {
   "display_name": "Kotlin",
   "language": "kotlin",
   "name": "kotlin"
  },
  "language_info": {
   "name": "kotlin",
   "version": "1.8.0",
   "mimetype": "text/x-kotlin",
   "file_extension": ".kt",
   "pygments_lexer": "kotlin",
   "codemirror_mode": "text/x-kotlin",
   "nbconvert_exporter": ""
  }
 },
 "nbformat": 4,
 "nbformat_minor": 0
}
