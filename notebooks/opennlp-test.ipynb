{
 "cells": [
  {
   "cell_type": "code",
   "execution_count": 1,
   "metadata": {
    "collapsed": true,
    "ExecuteTime": {
     "start_time": "2023-06-08T14:17:54.441325Z",
     "end_time": "2023-06-08T14:17:54.988845Z"
    }
   },
   "outputs": [],
   "source": [
    "@file:DependsOn(\"org.apache.opennlp:opennlp-tools:2.2.0\")\n"
   ]
  },
  {
   "cell_type": "code",
   "execution_count": 5,
   "outputs": [],
   "source": [
    "import java.io.*\n",
    "import opennlp.tools.sentdetect.*\n",
    "import opennlp.tools.cmdline.sentdetect.*\n",
    "import opennlp.tools.util.*\n",
    "import opennlp.tools.util.eval.*\n",
    "\n",
    "\n",
    "fun eval(model: String): FMeasure {\n",
    "    val lineStream = PlainTextByLineStream(\n",
    "        MarkableFileInputStreamFactory(File(\"../data/formatted/sv_talbanken-se-sent.eval\")),\n",
    "        Charsets.UTF_8\n",
    "    )\n",
    "\n",
    "    return SentenceSampleStream(lineStream).use {\n",
    "        val evaluator = SentenceDetectorEvaluator(SentenceDetectorME(SentenceModel(File(\"../data/models/$model\"))), SentenceEvaluationErrorListener())\n",
    "        evaluator.evaluate(it)\n",
    "        evaluator.fMeasure\n",
    "    }\n",
    "}\n"
   ],
   "metadata": {
    "collapsed": false,
    "ExecuteTime": {
     "start_time": "2023-06-08T15:26:14.390321Z",
     "end_time": "2023-06-08T15:26:14.482608Z"
    }
   }
  },
  {
   "cell_type": "code",
   "execution_count": 6,
   "outputs": [
    {
     "data": {
      "text/plain": "Precision: 0.9293286219081273\nRecall: 0.8630024610336341\nF-Measure: 0.8949383241173968"
     },
     "execution_count": 6,
     "metadata": {},
     "output_type": "execute_result"
    }
   ],
   "source": [
    "val sent15 = eval(\"se-sent-1-5.bin\")\n",
    "sent15\n"
   ],
   "metadata": {
    "collapsed": false,
    "ExecuteTime": {
     "start_time": "2023-06-08T15:26:17.197413Z",
     "end_time": "2023-06-08T15:26:17.256309Z"
    }
   }
  },
  {
   "cell_type": "code",
   "execution_count": 7,
   "outputs": [
    {
     "data": {
      "text/plain": "Precision: 0.9312169312169312\nRecall: 0.8662838392124692\nF-Measure: 0.8975775605609859"
     },
     "execution_count": 7,
     "metadata": {},
     "output_type": "execute_result"
    }
   ],
   "source": [
    "val sent22 = eval(\"se-sent-2-2.bin\")\n",
    "sent22\n"
   ],
   "metadata": {
    "collapsed": false,
    "ExecuteTime": {
     "start_time": "2023-06-08T15:26:18.811090Z",
     "end_time": "2023-06-08T15:26:18.861412Z"
    }
   }
  },
  {
   "cell_type": "code",
   "execution_count": 9,
   "outputs": [
    {
     "data": {
      "text/plain": "Precision: 0.9312169312169312\nRecall: 0.8662838392124692\nF-Measure: 0.8975775605609859"
     },
     "execution_count": 9,
     "metadata": {},
     "output_type": "execute_result"
    }
   ],
   "source": [
    "eval(\"se-sent-2-2-with-hints.bin\")"
   ],
   "metadata": {
    "collapsed": false,
    "ExecuteTime": {
     "start_time": "2023-06-08T15:28:53.801477Z",
     "end_time": "2023-06-08T15:28:53.856622Z"
    }
   }
  },
  {
   "cell_type": "code",
   "execution_count": null,
   "outputs": [],
   "source": [],
   "metadata": {
    "collapsed": false
   }
  }
 ],
 "metadata": {
  "kernelspec": {
   "display_name": "Kotlin",
   "language": "kotlin",
   "name": "kotlin"
  },
  "language_info": {
   "name": "kotlin",
   "version": "1.8.0",
   "mimetype": "text/x-kotlin",
   "file_extension": ".kt",
   "pygments_lexer": "kotlin",
   "codemirror_mode": "text/x-kotlin",
   "nbconvert_exporter": ""
  }
 },
 "nbformat": 4,
 "nbformat_minor": 0
}
